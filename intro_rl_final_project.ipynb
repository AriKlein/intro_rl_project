{
  "nbformat": 4,
  "nbformat_minor": 0,
  "metadata": {
    "colab": {
      "name": "Copy of Untitled2.ipynb",
      "provenance": [],
      "collapsed_sections": [],
      "authorship_tag": "ABX9TyNfzCfC5h+/1XmYCTdNEUzo",
      "include_colab_link": true
    },
    "kernelspec": {
      "name": "python3",
      "display_name": "Python 3"
    },
    "language_info": {
      "name": "python"
    }
  },
  "cells": [
    {
      "cell_type": "markdown",
      "metadata": {
        "id": "view-in-github",
        "colab_type": "text"
      },
      "source": [
        "<a href=\"https://colab.research.google.com/github/AriKlein/intro_rl_project/blob/main/intro_rl_final_project.ipynb\" target=\"_parent\"><img src=\"https://colab.research.google.com/assets/colab-badge.svg\" alt=\"Open In Colab\"/></a>"
      ]
    },
    {
      "cell_type": "markdown",
      "metadata": {
        "id": "kGeLz_REsKzj"
      },
      "source": [
        "# Introduction to Reinforcement Learning Final Project\n",
        "# Ari Klein (aeklein)\n",
        "\n"
      ]
    },
    {
      "cell_type": "markdown",
      "metadata": {
        "id": "k7iVz0l4GCCb"
      },
      "source": [
        "# 1)  Describe the methods and variables in the class DiscreteEnv which is the parent class of the Taxi V3 class."
      ]
    },
    {
      "cell_type": "markdown",
      "metadata": {
        "id": "qGNPxYW3GU9W"
      },
      "source": [
        "DiscreteEnv has member data:\n",
        "-\tnS and nA capturing the number of states and actions, respectively.  \n",
        "-\tisd, which is a list of length nS giving the probability, for each state, that the initial state gets set to that state for any given call to reset()\n",
        "-\tP, which is a dictionary storing, for each {state, action} pair, the corresponding next state, the corresponding reward, and whether, after taking that action from the initial state, the system is now in a terminal state.  If the transitions are probabilistic, it stores all possible sets of {next_state, reward, done} in a list along with the probability associated with each possible {next_state, reward, done}\n",
        "-\tlastaction, which stores the previous action taken\n",
        "-\ts, which stores the current state\n",
        "-\taction_space and observation_space, which are discrete spaces of size nA and nS, respectively, representing the space of possible actions and states, respectively. \n",
        "DiscreteEnv has member functions (e.g. methods):\n",
        "-\tinit for constructing a DiscreteEnv object with member data set to the values specified in its arguments\n",
        "-\tseed for setting the seed for the RNG to a specified value or to a random one if no value is specified\n",
        "-\treset, which resets the system by setting the state to an initial state sampled from the set of possible states according to distribution isd.  Also sets lastaction to None\n",
        "-\tstep, which takes an action, moves from the current state to the next state based on that action, and returns the next state, associated reward, and whether the system is now in a terminal state.  \n"
      ]
    },
    {
      "cell_type": "markdown",
      "metadata": {
        "id": "Ee0Tk3iaGnd2"
      },
      "source": [
        "DiscreteEnv has member functions (e.g. methods):\n",
        "-\tinit for constructing a DiscreteEnv object with member data set to the values specified in its arguments\n",
        "-\tseed for setting the seed for the RNG to a specified value or to a random one if no value is specified\n",
        "-\treset, which resets the system by setting the state to an initial state sampled from the set of possible states according to distribution isd.  Also sets lastaction to None\n",
        "-\tstep, which takes an action, moves from the current state to the next state based on that action, and returns the next state, associated reward, and whether the system is now in a terminal state.  \n"
      ]
    },
    {
      "cell_type": "markdown",
      "metadata": {
        "id": "94Rk2s8PriaG"
      },
      "source": [
        "# 2) Describe the methods and variables in the Taxi V3 class."
      ]
    },
    {
      "cell_type": "markdown",
      "metadata": {
        "id": "2id-ybYTpya_"
      },
      "source": [
        "As TaxiEnv inherits DiscreteEnv, it has all the data and functions described above:\n",
        "-\tThe state captures the location on the map (out of 25 possible locations), the passenger location (5 total, including the possibility that the passenger is in the taxi), and the destination locations (out of 4 possible), for a total of nS = 25 X 5 X 4 = 500 possible states.\n",
        "-\tFrom each state, it is possible to move in any of 4 directions, or do a pickup, or do a dropoff, for a total of nA=6 possible actions.\n",
        "-\tThe initial state is a randomly chosen state from the 500 (= 5 X 5 X 5 X 4) possible states, subject to the constraint that the (initial) passenger location cannot be equal to the destination location (ruling out 5 X 5 X 4=100 possible states), nor can the passenger initially be inside the taxi, ruling out passenger location index 4, corresponding to 5 X 5 X 4 = 100 possible states.  This leaves 300 valid possible initial states, with the initial state being equally likely (e.g., with probability of 1/300) to be any one of these valid states.  isd is thus set to 1/300 for each of the 300 valid possible initial states, and 0 for the invalid initial states.\n",
        "-\tThe P dictionary captures the set of possible next states resulting from taking any action in any state, along with their associated probabilities, rewards, and whether they are terminal states.  Since the taxi environment is fully deterministic, there is only a single possible next state resulting from any action in any state, and it is assigned a probability of 1.  The only scenario resulting in a terminal state is performing a drop-off when the passenger is in the taxi and the taxi is at the correct destination.  Almost all actions in all states are assigned a reward of -1, with 3 exceptions:\n",
        " - Attempting a pickup when the passenger is either already in the taxi or not at the same location as the taxi is an illegal pickup and results in a reward of -10.\n",
        " - Attempting a drop-off when the passenger is either not in the taxi, or when the taxi is not in one of the four marked locations is an illegal drop-off and results in a reward of -10.\n",
        " - Performing a drop-off when the passenger is in the taxi and the taxi is at the correct destination, which results in a reward of 20.\n",
        "\n",
        "The new member data which are unique to the Taxi environment (e.g., not inherited from DiscreteEnv) are:\n",
        "-\tdesc, which captures the text-based map of the environment\n",
        "-\tlocs, which captures the possible pickup and dropoff locations as an array of ordered pairs on a 5X5 grid.\n",
        "\n",
        "The member functions are as follows:\n",
        "-\tinit sets the member data as described above.  \n",
        "-\treset resets the state of the environment to a random (uniformly distributed) state from the set of valid initial states, meaning that the initial taxi location, passenger location, and destination, are randomly chosen upon any call to reset.\n",
        "-\tstep takes an action, moves from the current state to the next state based on that action, and returns the next state, associated reward, and whether the system is now in a terminal state.  \n",
        "-\tencode converts a tuple containing the taxi row (0 to 4 going from north to south), taxi column (0 to 4 going from west to east), passenger location (index in locs, or 4 to indicate the passenger is in the taxi), and desired destination, and converts this tuple to a single number in [0,499].  In other words, it converts a logical representation of the state to a single integer representing the state.\n",
        "-\tdecode does the inverse of encode, namely converting a single integer representing the state into the corresponding taxi row, taxi column, passenger location and desired destination.\n",
        "-\trender depicts the environment and current state in an intuitive, human-readable, text-based format, where the taxi is shown on the map in its current location, with the taxi colored green if it has already successfully picked up the passenger, and yellow otherwise.  The location with the passenger (pre-pickup) is colored blue, while the desired destination is colored magenta.\n"
      ]
    },
    {
      "cell_type": "markdown",
      "metadata": {
        "id": "Jhf7Lu7gryI2"
      },
      "source": [
        "# 3) Describe the Taxi V3 environment, its actions, states, reward structure and the rationale behind such a reward structure."
      ]
    },
    {
      "cell_type": "markdown",
      "metadata": {
        "id": "ca-nWkQIsxPC"
      },
      "source": [
        "The Taxi V3 environment consists of a taxi agent which is initially at some random location on the below map:\n",
        "\n",
        "```\n",
        "MAP = [\n",
        "    \"+---------+\",\n",
        "    \"|R: | : :G|\",\n",
        "    \"| : | : : |\",\n",
        "    \"| : : : : |\",\n",
        "    \"| | : | : |\",\n",
        "    \"|Y| : |B: |\",\n",
        "    \"+---------+\",\n",
        "]\n",
        "```\n",
        "where the above map is illustrating a 5X5 grid.  The taxi can try to move north, east, west, or south, but will only be able to successfully move east or west through a `':'`.  There is a passenger randomly placed in the environment at one of the four location marked R, G, B, or Y, with a (different) desired destination that is randomly either R, G, B, or Y.  The goal of the taxi agent is to:\n",
        " - move to the passenger location\n",
        " - pick up the passenger at the passenger location, at which point the passenger is inside the taxi\n",
        " - move to the destination location\n",
        " - drop off the passenger at the destination location\n",
        "\n",
        "The taxi agent can always attempt to take one of 6 possible actions:\n",
        "- move south, north, east or west (actions 0-3, respectively)\n",
        "- pick up a passenger (action 4)\n",
        "- drop off a passenger (action 5)\n",
        "\n",
        "The state captures the location of the taxi agent on the map (out of 25 possible locations), the passenger location (5 total, including the possibility that the passenger is in the taxi), and the destination locations (out of 4 possible), for a total of 25 X 5 X 4 = 500 possible states.\n",
        "\n",
        "Almost all actions in all states are assigned a reward of -1, with 3 exceptions:\n",
        "- Attempting a pickup when the passenger is either already in the taxi or not at the same location as the taxi is an illegal pickup and results in a reward of -10.\n",
        "- Attempting a drop-off when the passenger is either not in the taxi, or when the taxi is not in one of the four marked locations is an illegal drop-off and results in a reward of -10.\n",
        "- Performing a drop-off when the passenger is in the taxi and the taxi is at the correct destination, which results in a reward of 20.\n",
        "\n",
        "The reward for successful completion of the final objective is to encourage the agent to successfully complete the objective; this reward needs to be effectively \"propagated\" backwards to encourage actions which lead the agent closer to acheiving the objective.  The rationale behind the default reward of -1 for almost all steps is to encourage the agent to acheive the goals described above in as few steps as possible (e.g., to encourage efficiency).  The relatively large penalties for illegal pickups and dropoffs are to strongly discourage the agent from taking such actions.  "
      ]
    },
    {
      "cell_type": "markdown",
      "metadata": {
        "id": "KMk9aQY5Rb1t"
      },
      "source": [
        "# 4-6)"
      ]
    },
    {
      "cell_type": "markdown",
      "metadata": {
        "id": "Z37exgbBRtTn"
      },
      "source": [
        "Below are my implementations of SARSA and Q-learning, which both call my implementation of epsilon_greedy_action_from_Q.  The code for these three methods is largely based off the W3S2 and W4S1 solution branches (for example, https://github.com/KnowchowHQ/rl-in-action/blob/solution/C1-RL-Intro/W4S1/foolsball-v3.ipynb) which is in turn based off https://lilianweng.github.io/lil-log/2018/02/19/a-long-peek-into-reinforcement-learning.html#sarsa-on-policy-td-control. \n",
        "My main changes to this code were:\n",
        " - The addition of hyperparameter `max_episode_length` for forcing episode end if taxi is looping\n",
        " - The addition of hyperparameter `num_exploration_episodes` to force exploration (epsilon=1) for several episodes before starting exploitation (epsilon decay)\n",
        " - The addition of hyperparameter `num_episodes_with_some_exploration` for forcing epsilon to 0 to force greedy policy for the purpose of calculating rubric metrics.\n",
        " - Calculating and returning the accumulated, non-discounted reward for each episode and checking whether each episode contains any illegal actions.  These are needed to evaluate algorithm performance against the rubric.  Since we should always be taking greedy actions fot the rubric, epsilon should be set to 0 for at least the last 1000 episodes (or 1100 to get 1000 sliding windows of length 100)."
      ]
    },
    {
      "cell_type": "code",
      "metadata": {
        "id": "bq3nP3w--Hbn"
      },
      "source": [
        "import pandas as pd\n",
        "import matplotlib.pyplot as plt\n",
        "\n",
        "import numpy as np\n",
        "from tqdm import tqdm\n",
        "\n",
        "import gym\n",
        "\n",
        "# Given:\n",
        "# - a pandas table, Q, of discounted returns for for each action (columns) from each state (rows)\n",
        "# - a state\n",
        "# - an epsilon value\n",
        "# Returns an action sampled from a probability distribution wherein:\n",
        "# - The greedy action is taken with probability (1-epsilon) + epsilon/nA  (nA is number of possible actions)\n",
        "# - Any single non-greedy action can be taken with probability epsilon/nA  (nA is number of possible actions)\n",
        "# When epsilon=0, the below always gives the greedy action\n",
        "# When epsilon=1, the action is completely random (e.g., sampled from a uniform dist. across the possible actions)\n",
        "def epsilon_greedy_action_from_Q(Q, state, epsilon):\n",
        "    actions = Q.columns\n",
        "    action_probs = np.asarray([epsilon / len(actions)] * len(actions), dtype=np.float)\n",
        "\n",
        "    greedy_action_index = np.argmax(Q.loc[state].values)\n",
        "    action_probs[greedy_action_index] += 1 - epsilon\n",
        "\n",
        "    epsilon_greedy_action = np.random.choice(Q.columns, p=action_probs)\n",
        "\n",
        "    return epsilon_greedy_action\n",
        "\n",
        "# Implements sarsa, given a taxi agent and a dictionary of hyperparameters\n",
        "# Returns:\n",
        "#   - Pandas table of discounted returns for for each action (columns) from each state (rows)\n",
        "#   - numpy array of length n_episodes with reward for each epsiode.  Generally non-dsicounted but using epsilon-greedy policy.  By forcing epsilon to 0 for the last 1100 episodes, can get greedy rewards.\n",
        "#   - numpy array of length n_episodes with a '1' if the episode had at least 1 illegal action (action resulting in reward of -10), and a '0' if no illegal action was taken in the epsiode.\n",
        "def sarsa(taxi, HYPER_PARAMS):\n",
        "\n",
        "    actions_np = np.arange(taxi.nA)\n",
        "    states_np = np.arange(taxi.nS)\n",
        "\n",
        "    gamma = HYPER_PARAMS['gamma'] # parameter for discounted returns to encourage finding quickest route\n",
        "    n_episodes = HYPER_PARAMS['n_episodes']   # number of episodes to run\n",
        "    epsilon_decay = HYPER_PARAMS['epsilon_decay']   # controls exploration/exploitation tradeoff\n",
        "    min_epsilon = HYPER_PARAMS['min_epsilon']  # controls at what point to stop decaying epsilon (e.g., max exploitation we allow)\n",
        "    alpha = HYPER_PARAMS['alpha'] # effective learning rate telling us how to weight current return against value already in table\n",
        "\n",
        "    max_episode_length = HYPER_PARAMS['max_episode_length'] # max length of episode before forcing a reset in sarsa or q-learning\n",
        "    num_exploration_episodes = HYPER_PARAMS['num_exploration_episodes'] # num episodes to force explore before starting to decay epsilon\n",
        "    num_episodes_with_some_exploration = HYPER_PARAMS['num_episodes_with_some_exploration']\n",
        "\n",
        "    Q = pd.DataFrame.from_dict({s: {a: 0 for a in actions_np} for s in states_np}, orient='index')\n",
        "\n",
        "    epsilon = 1\n",
        "    rewards = np.zeros(n_episodes)\n",
        "    had_illegal_action = np.zeros(n_episodes) # 0 if no illegal action in the episode.  1 if had illegal action\n",
        "\n",
        "\n",
        "    for i in tqdm(range(n_episodes)):\n",
        "        s0 = taxi.reset()\n",
        "        a0 = epsilon_greedy_action_from_Q(Q, s0, epsilon)\n",
        "        #s0 = foolsball.init_state\n",
        "        done = False\n",
        "        current_episode_length=0\n",
        "        episode_reward = 0\n",
        "        episode_had_illegal_action = 0\n",
        "\n",
        "        while (not done) and (current_episode_length < max_episode_length):\n",
        "\n",
        "            s1, reward, done, dummy_prob = taxi.step(a0)\n",
        "            a1 = epsilon_greedy_action_from_Q(Q, s1, epsilon)\n",
        "            Q.loc[s0, a0] += alpha * (reward + gamma * Q.loc[s1, a1] - Q.loc[s0, a0])\n",
        "            s0 = s1\n",
        "            a0 = a1\n",
        "            current_episode_length = current_episode_length+1\n",
        "\n",
        "            # For the rubric, need to calculate the reward and check whether illegal actions taken based on greedy choice:  epsilon=0\n",
        "            # I will therefore force my epsilon to zero after a certain number of episodes, after which the below will be based on greedy\n",
        "            # actions instead of epsilon-greedy\n",
        "            episode_reward += reward\n",
        "            if reward == -10:\n",
        "                episode_had_illegal_action = 1\n",
        "\n",
        "        if i > num_exploration_episodes:\n",
        "            epsilon *= epsilon_decay\n",
        "            epsilon = max(epsilon, min_epsilon)\n",
        "\n",
        "        # for the rubric, need to calculate the reward and check whether illegal actions taken based on greedy choice:  epsilon=0\n",
        "        # I will therefore force my epsilon to zero after a certain number (num_episodes_with_some_exploration) of episodes.\n",
        "        # Will generally want this to be ~ 1100 less than total num episodes so that get at least 1100 episodes for rubric\n",
        "        if i > num_episodes_with_some_exploration:\n",
        "            epsilon = 0\n",
        "\n",
        "        rewards[i] = episode_reward\n",
        "        had_illegal_action[i] = episode_had_illegal_action\n",
        "\n",
        "    return Q, rewards, had_illegal_action\n",
        "\n",
        "# Implements Q-learning, given a taxi agent and a dictionary of hyperparameters\n",
        "# Returns:\n",
        "#   - Pandas table of discounted returns for for each action (columns) from each state (rows)\n",
        "#   - numpy array of length n_episodes with reward for each epsiode.  Generally non-dsicounted but using epsilon-greedy policy.  By forcing epsilon to 0 for the last 1100 episodes, can get greedy rewards.\n",
        "#   - numpy array of length n_episodes with a '1' if the episode had at least 1 illegal action (action resulting in reward of -10), and a '0' if no illegal action was taken in the epsiode.\n",
        "def q_learning(taxi, HYPER_PARAMS):\n",
        "\n",
        "    actions_np = np.arange(taxi.nA)\n",
        "    states_np = np.arange(taxi.nS)\n",
        "\n",
        "    gamma = HYPER_PARAMS['gamma'] # parameter for discounted returns to encourage finding quickest route\n",
        "    n_episodes = HYPER_PARAMS['n_episodes']   # number of episodes to run\n",
        "    epsilon_decay = HYPER_PARAMS['epsilon_decay']   # controls exploration/exploitation tradeoff\n",
        "    min_epsilon = HYPER_PARAMS['min_epsilon']  # controls at what point to stop decaying epsilon (e.g., max exploitation we allow)\n",
        "    alpha = HYPER_PARAMS['alpha'] # effective learning rate telling us how to weight current return against value already in table\n",
        "\n",
        "    max_episode_length = HYPER_PARAMS['max_episode_length'] # max length of episode before forcing a reset in sarsa or q-learning\n",
        "    num_exploration_episodes = HYPER_PARAMS['num_exploration_episodes'] # num episodes to force explore before starting to decay epsilon\n",
        "    num_episodes_with_some_exploration = HYPER_PARAMS['num_episodes_with_some_exploration']\n",
        "\n",
        "    Q = pd.DataFrame.from_dict({s: {a: 0 for a in actions_np} for s in states_np}, orient='index')\n",
        "\n",
        "    epsilon = 1\n",
        "    rewards = np.zeros(n_episodes)\n",
        "    had_illegal_action = np.zeros(n_episodes) # 0 if no illegal action in the episode.  1 if had illegal action\n",
        "\n",
        "\n",
        "    for i in tqdm(range(n_episodes)):\n",
        "        s0 = taxi.reset()\n",
        "        #s0 = foolsball.init_state\n",
        "        done = False\n",
        "        current_episode_length=0\n",
        "        episode_reward = 0\n",
        "        episode_had_illegal_action = 0\n",
        "\n",
        "        while (not done) and (current_episode_length < max_episode_length):\n",
        "            a0 = epsilon_greedy_action_from_Q(Q, s0, epsilon)\n",
        "            s1, reward, done, dummy_prob = taxi.step(a0)\n",
        "            Q.loc[s0, a0] += alpha * (reward + gamma * Q.loc[s1].max() - Q.loc[s0, a0])\n",
        "            s0 = s1\n",
        "            current_episode_length = current_episode_length+1\n",
        "\n",
        "            # For the rubric, need to calculate the reward and check whether illegal actions taken based on greedy choice:  epsilon=0\n",
        "            # I will therefore force my epsilon to zero after a certain number of episodes, after which the below will be based on greedy\n",
        "            # actions instead of epsilon-greedy\n",
        "            episode_reward += reward\n",
        "            if reward == -10:\n",
        "                episode_had_illegal_action = 1\n",
        "\n",
        "        if i > num_exploration_episodes:\n",
        "            epsilon *= epsilon_decay\n",
        "            epsilon = max(epsilon, min_epsilon)\n",
        "\n",
        "        # for the rubric, need to calculate the reward and check whether illegal actions taken based on greedy choice:  epsilon=0\n",
        "        # I will therefore force my epsilon to zero after a certain number (num_episodes_with_some_exploration) of episodes.\n",
        "        # Will generally want this to be ~ 1100 less than total num episodes so that get at least 1100 episodes for rubric\n",
        "        if i > num_episodes_with_some_exploration:\n",
        "            epsilon = 0\n",
        "\n",
        "        rewards[i] = episode_reward\n",
        "        had_illegal_action[i] = episode_had_illegal_action\n",
        "\n",
        "    return Q, rewards, had_illegal_action"
      ],
      "execution_count": 1,
      "outputs": []
    },
    {
      "cell_type": "markdown",
      "metadata": {
        "id": "CvYp9pqBX0gm"
      },
      "source": [
        "I defined the following 8 hyperparameters (description of each given in code comments):"
      ]
    },
    {
      "cell_type": "code",
      "metadata": {
        "id": "21UnOhyKYLsG"
      },
      "source": [
        "MY_HYPER_PARAMS = {}\n",
        "MY_HYPER_PARAMS['gamma'] = 0.9 # parameter for discounted returns to encourage finding quickest route.\n",
        "MY_HYPER_PARAMS['n_episodes'] = 10000  # number of episodes to run\n",
        "MY_HYPER_PARAMS['epsilon_decay'] = 0.99  # controls exploration/exploitation tradeoff\n",
        "MY_HYPER_PARAMS['min_epsilon'] = 0.05  # controls at what point to stop decaying epsilon (e.g., max exploitation we allow)\n",
        "MY_HYPER_PARAMS['alpha'] = 0.1  # effective learning rate telling us how to weight current return against value already in table\n",
        "MY_HYPER_PARAMS['max_episode_length'] = 50 # max length of episode before forcing a reset in sarsa or q-learning\n",
        "MY_HYPER_PARAMS['num_exploration_episodes'] = 500  # num episodes to force explore before starting to decay epsilon\n",
        "\n",
        "# for the rubric, need to calculate the reward and check whether illegal actions taken based on greedy choice:  epsilon=0\n",
        "# I will therefore force my epsilon to zero after a certain number (num_episodes_with_some_exploration) of episodes.\n",
        "# Will generally want this to be ~ 1100 less than total num episodes so that get at least 1100 episodes for rubric\n",
        "MY_HYPER_PARAMS['num_episodes_with_some_exploration'] = MY_HYPER_PARAMS['n_episodes'] - 1102"
      ],
      "execution_count": 2,
      "outputs": []
    },
    {
      "cell_type": "markdown",
      "metadata": {
        "id": "zH-ljA46XZ2J"
      },
      "source": [
        "I preferred to work on my local machine in PyCharm for the enhanced debugging capabilities offered by that IDE.  My hyperparameter values resulted largely from trial-and-error in PyCharm, largely with the Q-learning algorithm, by inspection of the plot of windowed_rewards (see below) and the rubric values (e.g., 5th and 95th percentile rewards) for different hyperparameter settings.  For example:\n",
        "- I found that reducing `alpha` below 0.1 reduced convergence speed (e.g., I had to run for more episodes to get same result) without improving performance, so I am setting `alpha` to 0.1.\n",
        "- The `epsilon_decay value` of 0.99 implies that once we start allowing decay (after an initial exploration period of `num_exploration_episodes=500`) , it takes log(`min_epsilon`)/log(0.99) ~ 300 episodes to transition from full exploration to almost full exploitation. \n",
        "- Since there are 25 locations on the MAP, and we need to both pick up and dropoff the passenger, it seems reasonable to set the `max_episode_length` to 50.\n",
        "- The `num_episodes_with_some_exploration` is not really a hyperparameter.  I added it to force epsilon to 0 for the last 1100 episodes so that the last 1100 values in the vectors used for the rubric (e.g., the rewards vector and vector verifying that no illegal actions are taken) reflect episodes based entirely on greedy actions.  "
      ]
    },
    {
      "cell_type": "code",
      "metadata": {
        "colab": {
          "base_uri": "https://localhost:8080/"
        },
        "id": "lRXtsYHFbSv-",
        "outputId": "e92c7e75-d285-4125-99a5-fc9975d1dac2"
      },
      "source": [
        "# Define the MAP, initialize the taxi environment, and check that we can reset and render\n",
        "\n",
        "MAP = [\n",
        "    \"+---------+\",\n",
        "    \"|R: | : :G|\",\n",
        "    \"| : | : : |\",\n",
        "    \"| : : : : |\",\n",
        "    \"| | : | : |\",\n",
        "    \"|Y| : |B: |\",\n",
        "    \"+---------+\",\n",
        "]\n",
        "global_taxi = gym.make('Taxi-v3')\n",
        "global_taxi.reset()\n",
        "global_taxi.render()"
      ],
      "execution_count": 3,
      "outputs": [
        {
          "output_type": "stream",
          "text": [
            "+---------+\n",
            "|R: | : :G|\n",
            "|\u001b[43m \u001b[0m: | : : |\n",
            "| : : : : |\n",
            "| | : | : |\n",
            "|\u001b[34;1mY\u001b[0m| : |\u001b[35mB\u001b[0m: |\n",
            "+---------+\n",
            "\n"
          ],
          "name": "stdout"
        }
      ]
    },
    {
      "cell_type": "code",
      "metadata": {
        "colab": {
          "base_uri": "https://localhost:8080/",
          "height": 349
        },
        "id": "9AtsPln5dlmY",
        "outputId": "4f69d96f-53c8-43fa-bb25-86ac1df4939c"
      },
      "source": [
        "# Run Q-learning and check rubrics:\n",
        "estimated_returns_tbl, rewards, had_illegal_action = q_learning(global_taxi, MY_HYPER_PARAMS)\n",
        "\n",
        "# Calculate a moving average over a sliding window of 100 episodes \n",
        "windowed_rewards = np.convolve(rewards, np.ones(100)/100, 'valid')\n",
        "plt.plot(windowed_rewards[500:])\n",
        "plt.show()\n",
        "\n",
        "last_1000_start_idx = MY_HYPER_PARAMS['n_episodes'] - 100 - 1000\n",
        "avg_reward_last_1000 = windowed_rewards[last_1000_start_idx:(last_1000_start_idx+999)]\n",
        "\n",
        "avg_reward_5p = np.quantile(avg_reward_last_1000,.05)\n",
        "avg_reward_95p = np.quantile(avg_reward_last_1000,.95)\n",
        "\n",
        "print('5th percentile = '+str(avg_reward_5p))\n",
        "print('95th percentile = '+str(avg_reward_95p))\n",
        "print('Avg reward = '+str(np.mean(avg_reward_last_1000)))\n",
        "\n",
        "illegal_actions = np.count_nonzero(had_illegal_action[last_1000_start_idx:])\n",
        "print('Illegal actions in last 1000 = '+str(illegal_actions))"
      ],
      "execution_count": 4,
      "outputs": [
        {
          "output_type": "stream",
          "text": [
            "100%|██████████| 10000/10000 [02:52<00:00, 58.00it/s]\n"
          ],
          "name": "stderr"
        },
        {
          "output_type": "display_data",
          "data": {
            "image/png": "[encoded data removed]",
            "text/plain": [
              "<Figure size 432x288 with 1 Axes>"
            ]
          },
          "metadata": {
            "tags": [],
            "needs_background": "light"
          }
        },
        {
          "output_type": "stream",
          "text": [
            "5th percentile = 7.38\n",
            "95th percentile = 8.45\n",
            "Avg reward = 7.884304304304305\n",
            "Illegal actions in last 1000 = 0\n"
          ],
          "name": "stdout"
        }
      ]
    },
    {
      "cell_type": "markdown",
      "metadata": {
        "id": "P4hZq0F6fRSH"
      },
      "source": [
        "As seen above:\n",
        "- the 5th percentile is 7.38>7.2\n",
        "- the 95th percentile is 8.45>8.2\n",
        "- no illegal actions are taken in the last 1000 episodes"
      ]
    }
  ]
}